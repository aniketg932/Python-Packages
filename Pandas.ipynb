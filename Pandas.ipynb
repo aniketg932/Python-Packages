{
 "cells": [
  {
   "cell_type": "code",
   "execution_count": 1,
   "metadata": {},
   "outputs": [],
   "source": [
    "import pandas as pa\n",
    "import numpy as np"
   ]
  },
  {
   "cell_type": "markdown",
   "metadata": {},
   "source": [
    "##### Make Series-"
   ]
  },
  {
   "cell_type": "code",
   "execution_count": 3,
   "metadata": {},
   "outputs": [],
   "source": [
    "a=pa.Series([1,2,3,4,np.nan,5,6,np.nan])"
   ]
  },
  {
   "cell_type": "code",
   "execution_count": 4,
   "metadata": {},
   "outputs": [
    {
     "data": {
      "text/plain": [
       "0    1.0\n",
       "1    2.0\n",
       "2    3.0\n",
       "3    4.0\n",
       "4    NaN\n",
       "5    5.0\n",
       "6    6.0\n",
       "7    NaN\n",
       "dtype: float64"
      ]
     },
     "execution_count": 4,
     "metadata": {},
     "output_type": "execute_result"
    }
   ],
   "source": [
    "a"
   ]
  },
  {
   "cell_type": "code",
   "execution_count": 6,
   "metadata": {},
   "outputs": [],
   "source": [
    "d=pa.date_range('20210110',periods=10)"
   ]
  },
  {
   "cell_type": "code",
   "execution_count": 7,
   "metadata": {},
   "outputs": [
    {
     "data": {
      "text/plain": [
       "DatetimeIndex(['2021-01-10', '2021-01-11', '2021-01-12', '2021-01-13',\n",
       "               '2021-01-14', '2021-01-15', '2021-01-16', '2021-01-17',\n",
       "               '2021-01-18', '2021-01-19'],\n",
       "              dtype='datetime64[ns]', freq='D')"
      ]
     },
     "execution_count": 7,
     "metadata": {},
     "output_type": "execute_result"
    }
   ],
   "source": [
    "d"
   ]
  },
  {
   "cell_type": "markdown",
   "metadata": {},
   "source": [
    "##### Make DataFrame -"
   ]
  },
  {
   "cell_type": "code",
   "execution_count": 17,
   "metadata": {},
   "outputs": [],
   "source": [
    "df1=pa.DataFrame(np.random.randn(10,4),index=d,columns=['A','B','C','D'])"
   ]
  },
  {
   "cell_type": "code",
   "execution_count": 18,
   "metadata": {},
   "outputs": [
    {
     "data": {
      "text/html": [
       "<div>\n",
       "<style scoped>\n",
       "    .dataframe tbody tr th:only-of-type {\n",
       "        vertical-align: middle;\n",
       "    }\n",
       "\n",
       "    .dataframe tbody tr th {\n",
       "        vertical-align: top;\n",
       "    }\n",
       "\n",
       "    .dataframe thead th {\n",
       "        text-align: right;\n",
       "    }\n",
       "</style>\n",
       "<table border=\"1\" class=\"dataframe\">\n",
       "  <thead>\n",
       "    <tr style=\"text-align: right;\">\n",
       "      <th></th>\n",
       "      <th>A</th>\n",
       "      <th>B</th>\n",
       "      <th>C</th>\n",
       "      <th>D</th>\n",
       "    </tr>\n",
       "  </thead>\n",
       "  <tbody>\n",
       "    <tr>\n",
       "      <td>2021-01-10</td>\n",
       "      <td>0.997043</td>\n",
       "      <td>0.658202</td>\n",
       "      <td>0.239007</td>\n",
       "      <td>0.228081</td>\n",
       "    </tr>\n",
       "    <tr>\n",
       "      <td>2021-01-11</td>\n",
       "      <td>-0.829321</td>\n",
       "      <td>0.035848</td>\n",
       "      <td>-0.588739</td>\n",
       "      <td>-0.403698</td>\n",
       "    </tr>\n",
       "    <tr>\n",
       "      <td>2021-01-12</td>\n",
       "      <td>1.705185</td>\n",
       "      <td>0.437801</td>\n",
       "      <td>-0.475632</td>\n",
       "      <td>-0.931822</td>\n",
       "    </tr>\n",
       "    <tr>\n",
       "      <td>2021-01-13</td>\n",
       "      <td>-1.581267</td>\n",
       "      <td>0.986835</td>\n",
       "      <td>-0.155522</td>\n",
       "      <td>0.102689</td>\n",
       "    </tr>\n",
       "    <tr>\n",
       "      <td>2021-01-14</td>\n",
       "      <td>0.104500</td>\n",
       "      <td>-0.187676</td>\n",
       "      <td>-1.614953</td>\n",
       "      <td>-2.021731</td>\n",
       "    </tr>\n",
       "    <tr>\n",
       "      <td>2021-01-15</td>\n",
       "      <td>-0.499278</td>\n",
       "      <td>-0.246731</td>\n",
       "      <td>-0.191429</td>\n",
       "      <td>-0.724163</td>\n",
       "    </tr>\n",
       "    <tr>\n",
       "      <td>2021-01-16</td>\n",
       "      <td>0.504597</td>\n",
       "      <td>0.728836</td>\n",
       "      <td>-0.064109</td>\n",
       "      <td>1.422097</td>\n",
       "    </tr>\n",
       "    <tr>\n",
       "      <td>2021-01-17</td>\n",
       "      <td>0.637966</td>\n",
       "      <td>-1.343297</td>\n",
       "      <td>-1.054989</td>\n",
       "      <td>0.518092</td>\n",
       "    </tr>\n",
       "    <tr>\n",
       "      <td>2021-01-18</td>\n",
       "      <td>0.241059</td>\n",
       "      <td>0.990760</td>\n",
       "      <td>-1.008282</td>\n",
       "      <td>1.656729</td>\n",
       "    </tr>\n",
       "    <tr>\n",
       "      <td>2021-01-19</td>\n",
       "      <td>0.333633</td>\n",
       "      <td>-1.178295</td>\n",
       "      <td>-1.029100</td>\n",
       "      <td>-0.346980</td>\n",
       "    </tr>\n",
       "  </tbody>\n",
       "</table>\n",
       "</div>"
      ],
      "text/plain": [
       "                   A         B         C         D\n",
       "2021-01-10  0.997043  0.658202  0.239007  0.228081\n",
       "2021-01-11 -0.829321  0.035848 -0.588739 -0.403698\n",
       "2021-01-12  1.705185  0.437801 -0.475632 -0.931822\n",
       "2021-01-13 -1.581267  0.986835 -0.155522  0.102689\n",
       "2021-01-14  0.104500 -0.187676 -1.614953 -2.021731\n",
       "2021-01-15 -0.499278 -0.246731 -0.191429 -0.724163\n",
       "2021-01-16  0.504597  0.728836 -0.064109  1.422097\n",
       "2021-01-17  0.637966 -1.343297 -1.054989  0.518092\n",
       "2021-01-18  0.241059  0.990760 -1.008282  1.656729\n",
       "2021-01-19  0.333633 -1.178295 -1.029100 -0.346980"
      ]
     },
     "execution_count": 18,
     "metadata": {},
     "output_type": "execute_result"
    }
   ],
   "source": [
    "df1"
   ]
  },
  {
   "cell_type": "code",
   "execution_count": 12,
   "metadata": {},
   "outputs": [],
   "source": [
    "#Dictionary with some values as made dataset \n",
    "df=pa.DataFrame({'A': [1,2,3,4],\n",
    "                 'B':pa.Timestamp('20210101'),\n",
    "                 'C':pa.Series(1,index=list(range(4)),dtype='float32'),\n",
    "                 'D':np.array([5]*4,dtype='int32'),\n",
    "                 'E':pa.Categorical(['True','False','False','True']),\n",
    "                 'F':'Jupyter'})"
   ]
  },
  {
   "cell_type": "code",
   "execution_count": 13,
   "metadata": {},
   "outputs": [
    {
     "data": {
      "text/html": [
       "<div>\n",
       "<style scoped>\n",
       "    .dataframe tbody tr th:only-of-type {\n",
       "        vertical-align: middle;\n",
       "    }\n",
       "\n",
       "    .dataframe tbody tr th {\n",
       "        vertical-align: top;\n",
       "    }\n",
       "\n",
       "    .dataframe thead th {\n",
       "        text-align: right;\n",
       "    }\n",
       "</style>\n",
       "<table border=\"1\" class=\"dataframe\">\n",
       "  <thead>\n",
       "    <tr style=\"text-align: right;\">\n",
       "      <th></th>\n",
       "      <th>A</th>\n",
       "      <th>B</th>\n",
       "      <th>C</th>\n",
       "      <th>D</th>\n",
       "      <th>E</th>\n",
       "      <th>F</th>\n",
       "    </tr>\n",
       "  </thead>\n",
       "  <tbody>\n",
       "    <tr>\n",
       "      <td>0</td>\n",
       "      <td>1</td>\n",
       "      <td>2021-01-01</td>\n",
       "      <td>1.0</td>\n",
       "      <td>5</td>\n",
       "      <td>True</td>\n",
       "      <td>Jupyter</td>\n",
       "    </tr>\n",
       "    <tr>\n",
       "      <td>1</td>\n",
       "      <td>2</td>\n",
       "      <td>2021-01-01</td>\n",
       "      <td>1.0</td>\n",
       "      <td>5</td>\n",
       "      <td>False</td>\n",
       "      <td>Jupyter</td>\n",
       "    </tr>\n",
       "    <tr>\n",
       "      <td>2</td>\n",
       "      <td>3</td>\n",
       "      <td>2021-01-01</td>\n",
       "      <td>1.0</td>\n",
       "      <td>5</td>\n",
       "      <td>False</td>\n",
       "      <td>Jupyter</td>\n",
       "    </tr>\n",
       "    <tr>\n",
       "      <td>3</td>\n",
       "      <td>4</td>\n",
       "      <td>2021-01-01</td>\n",
       "      <td>1.0</td>\n",
       "      <td>5</td>\n",
       "      <td>True</td>\n",
       "      <td>Jupyter</td>\n",
       "    </tr>\n",
       "  </tbody>\n",
       "</table>\n",
       "</div>"
      ],
      "text/plain": [
       "   A          B    C  D      E        F\n",
       "0  1 2021-01-01  1.0  5   True  Jupyter\n",
       "1  2 2021-01-01  1.0  5  False  Jupyter\n",
       "2  3 2021-01-01  1.0  5  False  Jupyter\n",
       "3  4 2021-01-01  1.0  5   True  Jupyter"
      ]
     },
     "execution_count": 13,
     "metadata": {},
     "output_type": "execute_result"
    }
   ],
   "source": [
    "df"
   ]
  },
  {
   "cell_type": "code",
   "execution_count": 14,
   "metadata": {},
   "outputs": [
    {
     "data": {
      "text/plain": [
       "A             int64\n",
       "B    datetime64[ns]\n",
       "C           float32\n",
       "D             int32\n",
       "E          category\n",
       "F            object\n",
       "dtype: object"
      ]
     },
     "execution_count": 14,
     "metadata": {},
     "output_type": "execute_result"
    }
   ],
   "source": [
    "df.dtypes"
   ]
  },
  {
   "cell_type": "code",
   "execution_count": 16,
   "metadata": {},
   "outputs": [
    {
     "data": {
      "text/html": [
       "<div>\n",
       "<style scoped>\n",
       "    .dataframe tbody tr th:only-of-type {\n",
       "        vertical-align: middle;\n",
       "    }\n",
       "\n",
       "    .dataframe tbody tr th {\n",
       "        vertical-align: top;\n",
       "    }\n",
       "\n",
       "    .dataframe thead th {\n",
       "        text-align: right;\n",
       "    }\n",
       "</style>\n",
       "<table border=\"1\" class=\"dataframe\">\n",
       "  <thead>\n",
       "    <tr style=\"text-align: right;\">\n",
       "      <th></th>\n",
       "      <th>A</th>\n",
       "      <th>B</th>\n",
       "      <th>C</th>\n",
       "      <th>D</th>\n",
       "      <th>E</th>\n",
       "      <th>F</th>\n",
       "    </tr>\n",
       "  </thead>\n",
       "  <tbody>\n",
       "    <tr>\n",
       "      <td>0</td>\n",
       "      <td>1</td>\n",
       "      <td>2021-01-01</td>\n",
       "      <td>1.0</td>\n",
       "      <td>5</td>\n",
       "      <td>True</td>\n",
       "      <td>Jupyter</td>\n",
       "    </tr>\n",
       "    <tr>\n",
       "      <td>1</td>\n",
       "      <td>2</td>\n",
       "      <td>2021-01-01</td>\n",
       "      <td>1.0</td>\n",
       "      <td>5</td>\n",
       "      <td>False</td>\n",
       "      <td>Jupyter</td>\n",
       "    </tr>\n",
       "    <tr>\n",
       "      <td>2</td>\n",
       "      <td>3</td>\n",
       "      <td>2021-01-01</td>\n",
       "      <td>1.0</td>\n",
       "      <td>5</td>\n",
       "      <td>False</td>\n",
       "      <td>Jupyter</td>\n",
       "    </tr>\n",
       "    <tr>\n",
       "      <td>3</td>\n",
       "      <td>4</td>\n",
       "      <td>2021-01-01</td>\n",
       "      <td>1.0</td>\n",
       "      <td>5</td>\n",
       "      <td>True</td>\n",
       "      <td>Jupyter</td>\n",
       "    </tr>\n",
       "  </tbody>\n",
       "</table>\n",
       "</div>"
      ],
      "text/plain": [
       "   A          B    C  D      E        F\n",
       "0  1 2021-01-01  1.0  5   True  Jupyter\n",
       "1  2 2021-01-01  1.0  5  False  Jupyter\n",
       "2  3 2021-01-01  1.0  5  False  Jupyter\n",
       "3  4 2021-01-01  1.0  5   True  Jupyter"
      ]
     },
     "execution_count": 16,
     "metadata": {},
     "output_type": "execute_result"
    }
   ],
   "source": [
    "df.head()\n",
    "df.tail()"
   ]
  },
  {
   "cell_type": "markdown",
   "metadata": {},
   "source": [
    "##### How to view data"
   ]
  },
  {
   "cell_type": "code",
   "execution_count": 19,
   "metadata": {},
   "outputs": [
    {
     "data": {
      "text/html": [
       "<div>\n",
       "<style scoped>\n",
       "    .dataframe tbody tr th:only-of-type {\n",
       "        vertical-align: middle;\n",
       "    }\n",
       "\n",
       "    .dataframe tbody tr th {\n",
       "        vertical-align: top;\n",
       "    }\n",
       "\n",
       "    .dataframe thead th {\n",
       "        text-align: right;\n",
       "    }\n",
       "</style>\n",
       "<table border=\"1\" class=\"dataframe\">\n",
       "  <thead>\n",
       "    <tr style=\"text-align: right;\">\n",
       "      <th></th>\n",
       "      <th>A</th>\n",
       "      <th>B</th>\n",
       "      <th>C</th>\n",
       "      <th>D</th>\n",
       "    </tr>\n",
       "  </thead>\n",
       "  <tbody>\n",
       "    <tr>\n",
       "      <td>2021-01-10</td>\n",
       "      <td>0.997043</td>\n",
       "      <td>0.658202</td>\n",
       "      <td>0.239007</td>\n",
       "      <td>0.228081</td>\n",
       "    </tr>\n",
       "    <tr>\n",
       "      <td>2021-01-11</td>\n",
       "      <td>-0.829321</td>\n",
       "      <td>0.035848</td>\n",
       "      <td>-0.588739</td>\n",
       "      <td>-0.403698</td>\n",
       "    </tr>\n",
       "    <tr>\n",
       "      <td>2021-01-12</td>\n",
       "      <td>1.705185</td>\n",
       "      <td>0.437801</td>\n",
       "      <td>-0.475632</td>\n",
       "      <td>-0.931822</td>\n",
       "    </tr>\n",
       "    <tr>\n",
       "      <td>2021-01-13</td>\n",
       "      <td>-1.581267</td>\n",
       "      <td>0.986835</td>\n",
       "      <td>-0.155522</td>\n",
       "      <td>0.102689</td>\n",
       "    </tr>\n",
       "    <tr>\n",
       "      <td>2021-01-14</td>\n",
       "      <td>0.104500</td>\n",
       "      <td>-0.187676</td>\n",
       "      <td>-1.614953</td>\n",
       "      <td>-2.021731</td>\n",
       "    </tr>\n",
       "  </tbody>\n",
       "</table>\n",
       "</div>"
      ],
      "text/plain": [
       "                   A         B         C         D\n",
       "2021-01-10  0.997043  0.658202  0.239007  0.228081\n",
       "2021-01-11 -0.829321  0.035848 -0.588739 -0.403698\n",
       "2021-01-12  1.705185  0.437801 -0.475632 -0.931822\n",
       "2021-01-13 -1.581267  0.986835 -0.155522  0.102689\n",
       "2021-01-14  0.104500 -0.187676 -1.614953 -2.021731"
      ]
     },
     "execution_count": 19,
     "metadata": {},
     "output_type": "execute_result"
    }
   ],
   "source": [
    "df1.head()"
   ]
  },
  {
   "cell_type": "code",
   "execution_count": 20,
   "metadata": {},
   "outputs": [
    {
     "data": {
      "text/html": [
       "<div>\n",
       "<style scoped>\n",
       "    .dataframe tbody tr th:only-of-type {\n",
       "        vertical-align: middle;\n",
       "    }\n",
       "\n",
       "    .dataframe tbody tr th {\n",
       "        vertical-align: top;\n",
       "    }\n",
       "\n",
       "    .dataframe thead th {\n",
       "        text-align: right;\n",
       "    }\n",
       "</style>\n",
       "<table border=\"1\" class=\"dataframe\">\n",
       "  <thead>\n",
       "    <tr style=\"text-align: right;\">\n",
       "      <th></th>\n",
       "      <th>A</th>\n",
       "      <th>B</th>\n",
       "      <th>C</th>\n",
       "      <th>D</th>\n",
       "    </tr>\n",
       "  </thead>\n",
       "  <tbody>\n",
       "    <tr>\n",
       "      <td>2021-01-15</td>\n",
       "      <td>-0.499278</td>\n",
       "      <td>-0.246731</td>\n",
       "      <td>-0.191429</td>\n",
       "      <td>-0.724163</td>\n",
       "    </tr>\n",
       "    <tr>\n",
       "      <td>2021-01-16</td>\n",
       "      <td>0.504597</td>\n",
       "      <td>0.728836</td>\n",
       "      <td>-0.064109</td>\n",
       "      <td>1.422097</td>\n",
       "    </tr>\n",
       "    <tr>\n",
       "      <td>2021-01-17</td>\n",
       "      <td>0.637966</td>\n",
       "      <td>-1.343297</td>\n",
       "      <td>-1.054989</td>\n",
       "      <td>0.518092</td>\n",
       "    </tr>\n",
       "    <tr>\n",
       "      <td>2021-01-18</td>\n",
       "      <td>0.241059</td>\n",
       "      <td>0.990760</td>\n",
       "      <td>-1.008282</td>\n",
       "      <td>1.656729</td>\n",
       "    </tr>\n",
       "    <tr>\n",
       "      <td>2021-01-19</td>\n",
       "      <td>0.333633</td>\n",
       "      <td>-1.178295</td>\n",
       "      <td>-1.029100</td>\n",
       "      <td>-0.346980</td>\n",
       "    </tr>\n",
       "  </tbody>\n",
       "</table>\n",
       "</div>"
      ],
      "text/plain": [
       "                   A         B         C         D\n",
       "2021-01-15 -0.499278 -0.246731 -0.191429 -0.724163\n",
       "2021-01-16  0.504597  0.728836 -0.064109  1.422097\n",
       "2021-01-17  0.637966 -1.343297 -1.054989  0.518092\n",
       "2021-01-18  0.241059  0.990760 -1.008282  1.656729\n",
       "2021-01-19  0.333633 -1.178295 -1.029100 -0.346980"
      ]
     },
     "execution_count": 20,
     "metadata": {},
     "output_type": "execute_result"
    }
   ],
   "source": [
    "df1.tail()"
   ]
  },
  {
   "cell_type": "code",
   "execution_count": 22,
   "metadata": {},
   "outputs": [
    {
     "data": {
      "text/plain": [
       "DatetimeIndex(['2021-01-10', '2021-01-11', '2021-01-12', '2021-01-13',\n",
       "               '2021-01-14', '2021-01-15', '2021-01-16', '2021-01-17',\n",
       "               '2021-01-18', '2021-01-19'],\n",
       "              dtype='datetime64[ns]', freq='D')"
      ]
     },
     "execution_count": 22,
     "metadata": {},
     "output_type": "execute_result"
    }
   ],
   "source": [
    "df1.index"
   ]
  },
  {
   "cell_type": "code",
   "execution_count": 23,
   "metadata": {},
   "outputs": [
    {
     "data": {
      "text/plain": [
       "Index(['A', 'B', 'C', 'D'], dtype='object')"
      ]
     },
     "execution_count": 23,
     "metadata": {},
     "output_type": "execute_result"
    }
   ],
   "source": [
    "df1.columns"
   ]
  },
  {
   "cell_type": "code",
   "execution_count": 24,
   "metadata": {},
   "outputs": [
    {
     "data": {
      "text/plain": [
       "array([[1, Timestamp('2021-01-01 00:00:00'), 1.0, 5, 'True', 'Jupyter'],\n",
       "       [2, Timestamp('2021-01-01 00:00:00'), 1.0, 5, 'False', 'Jupyter'],\n",
       "       [3, Timestamp('2021-01-01 00:00:00'), 1.0, 5, 'False', 'Jupyter'],\n",
       "       [4, Timestamp('2021-01-01 00:00:00'), 1.0, 5, 'True', 'Jupyter']],\n",
       "      dtype=object)"
      ]
     },
     "execution_count": 24,
     "metadata": {},
     "output_type": "execute_result"
    }
   ],
   "source": [
    "df.to_numpy() "
   ]
  },
  {
   "cell_type": "code",
   "execution_count": 25,
   "metadata": {},
   "outputs": [
    {
     "data": {
      "text/html": [
       "<div>\n",
       "<style scoped>\n",
       "    .dataframe tbody tr th:only-of-type {\n",
       "        vertical-align: middle;\n",
       "    }\n",
       "\n",
       "    .dataframe tbody tr th {\n",
       "        vertical-align: top;\n",
       "    }\n",
       "\n",
       "    .dataframe thead th {\n",
       "        text-align: right;\n",
       "    }\n",
       "</style>\n",
       "<table border=\"1\" class=\"dataframe\">\n",
       "  <thead>\n",
       "    <tr style=\"text-align: right;\">\n",
       "      <th></th>\n",
       "      <th>A</th>\n",
       "      <th>B</th>\n",
       "      <th>C</th>\n",
       "      <th>D</th>\n",
       "    </tr>\n",
       "  </thead>\n",
       "  <tbody>\n",
       "    <tr>\n",
       "      <td>count</td>\n",
       "      <td>10.000000</td>\n",
       "      <td>10.000000</td>\n",
       "      <td>10.000000</td>\n",
       "      <td>10.000000</td>\n",
       "    </tr>\n",
       "    <tr>\n",
       "      <td>mean</td>\n",
       "      <td>0.161412</td>\n",
       "      <td>0.088228</td>\n",
       "      <td>-0.594375</td>\n",
       "      <td>-0.050071</td>\n",
       "    </tr>\n",
       "    <tr>\n",
       "      <td>std</td>\n",
       "      <td>0.938120</td>\n",
       "      <td>0.838247</td>\n",
       "      <td>0.573377</td>\n",
       "      <td>1.097294</td>\n",
       "    </tr>\n",
       "    <tr>\n",
       "      <td>min</td>\n",
       "      <td>-1.581267</td>\n",
       "      <td>-1.343297</td>\n",
       "      <td>-1.614953</td>\n",
       "      <td>-2.021731</td>\n",
       "    </tr>\n",
       "    <tr>\n",
       "      <td>25%</td>\n",
       "      <td>-0.348333</td>\n",
       "      <td>-0.231967</td>\n",
       "      <td>-1.023895</td>\n",
       "      <td>-0.644047</td>\n",
       "    </tr>\n",
       "    <tr>\n",
       "      <td>50%</td>\n",
       "      <td>0.287346</td>\n",
       "      <td>0.236825</td>\n",
       "      <td>-0.532185</td>\n",
       "      <td>-0.122145</td>\n",
       "    </tr>\n",
       "    <tr>\n",
       "      <td>75%</td>\n",
       "      <td>0.604624</td>\n",
       "      <td>0.711178</td>\n",
       "      <td>-0.164499</td>\n",
       "      <td>0.445589</td>\n",
       "    </tr>\n",
       "    <tr>\n",
       "      <td>max</td>\n",
       "      <td>1.705185</td>\n",
       "      <td>0.990760</td>\n",
       "      <td>0.239007</td>\n",
       "      <td>1.656729</td>\n",
       "    </tr>\n",
       "  </tbody>\n",
       "</table>\n",
       "</div>"
      ],
      "text/plain": [
       "               A          B          C          D\n",
       "count  10.000000  10.000000  10.000000  10.000000\n",
       "mean    0.161412   0.088228  -0.594375  -0.050071\n",
       "std     0.938120   0.838247   0.573377   1.097294\n",
       "min    -1.581267  -1.343297  -1.614953  -2.021731\n",
       "25%    -0.348333  -0.231967  -1.023895  -0.644047\n",
       "50%     0.287346   0.236825  -0.532185  -0.122145\n",
       "75%     0.604624   0.711178  -0.164499   0.445589\n",
       "max     1.705185   0.990760   0.239007   1.656729"
      ]
     },
     "execution_count": 25,
     "metadata": {},
     "output_type": "execute_result"
    }
   ],
   "source": [
    "df1.describe() "
   ]
  },
  {
   "cell_type": "code",
   "execution_count": 26,
   "metadata": {},
   "outputs": [
    {
     "data": {
      "text/html": [
       "<div>\n",
       "<style scoped>\n",
       "    .dataframe tbody tr th:only-of-type {\n",
       "        vertical-align: middle;\n",
       "    }\n",
       "\n",
       "    .dataframe tbody tr th {\n",
       "        vertical-align: top;\n",
       "    }\n",
       "\n",
       "    .dataframe thead th {\n",
       "        text-align: right;\n",
       "    }\n",
       "</style>\n",
       "<table border=\"1\" class=\"dataframe\">\n",
       "  <thead>\n",
       "    <tr style=\"text-align: right;\">\n",
       "      <th></th>\n",
       "      <th>A</th>\n",
       "      <th>B</th>\n",
       "      <th>C</th>\n",
       "      <th>D</th>\n",
       "    </tr>\n",
       "  </thead>\n",
       "  <tbody>\n",
       "    <tr>\n",
       "      <td>2021-01-10</td>\n",
       "      <td>0.997043</td>\n",
       "      <td>0.658202</td>\n",
       "      <td>0.239007</td>\n",
       "      <td>0.228081</td>\n",
       "    </tr>\n",
       "    <tr>\n",
       "      <td>2021-01-11</td>\n",
       "      <td>-0.829321</td>\n",
       "      <td>0.035848</td>\n",
       "      <td>-0.588739</td>\n",
       "      <td>-0.403698</td>\n",
       "    </tr>\n",
       "    <tr>\n",
       "      <td>2021-01-12</td>\n",
       "      <td>1.705185</td>\n",
       "      <td>0.437801</td>\n",
       "      <td>-0.475632</td>\n",
       "      <td>-0.931822</td>\n",
       "    </tr>\n",
       "    <tr>\n",
       "      <td>2021-01-13</td>\n",
       "      <td>-1.581267</td>\n",
       "      <td>0.986835</td>\n",
       "      <td>-0.155522</td>\n",
       "      <td>0.102689</td>\n",
       "    </tr>\n",
       "    <tr>\n",
       "      <td>2021-01-14</td>\n",
       "      <td>0.104500</td>\n",
       "      <td>-0.187676</td>\n",
       "      <td>-1.614953</td>\n",
       "      <td>-2.021731</td>\n",
       "    </tr>\n",
       "    <tr>\n",
       "      <td>2021-01-15</td>\n",
       "      <td>-0.499278</td>\n",
       "      <td>-0.246731</td>\n",
       "      <td>-0.191429</td>\n",
       "      <td>-0.724163</td>\n",
       "    </tr>\n",
       "    <tr>\n",
       "      <td>2021-01-16</td>\n",
       "      <td>0.504597</td>\n",
       "      <td>0.728836</td>\n",
       "      <td>-0.064109</td>\n",
       "      <td>1.422097</td>\n",
       "    </tr>\n",
       "    <tr>\n",
       "      <td>2021-01-17</td>\n",
       "      <td>0.637966</td>\n",
       "      <td>-1.343297</td>\n",
       "      <td>-1.054989</td>\n",
       "      <td>0.518092</td>\n",
       "    </tr>\n",
       "    <tr>\n",
       "      <td>2021-01-18</td>\n",
       "      <td>0.241059</td>\n",
       "      <td>0.990760</td>\n",
       "      <td>-1.008282</td>\n",
       "      <td>1.656729</td>\n",
       "    </tr>\n",
       "    <tr>\n",
       "      <td>2021-01-19</td>\n",
       "      <td>0.333633</td>\n",
       "      <td>-1.178295</td>\n",
       "      <td>-1.029100</td>\n",
       "      <td>-0.346980</td>\n",
       "    </tr>\n",
       "  </tbody>\n",
       "</table>\n",
       "</div>"
      ],
      "text/plain": [
       "                   A         B         C         D\n",
       "2021-01-10  0.997043  0.658202  0.239007  0.228081\n",
       "2021-01-11 -0.829321  0.035848 -0.588739 -0.403698\n",
       "2021-01-12  1.705185  0.437801 -0.475632 -0.931822\n",
       "2021-01-13 -1.581267  0.986835 -0.155522  0.102689\n",
       "2021-01-14  0.104500 -0.187676 -1.614953 -2.021731\n",
       "2021-01-15 -0.499278 -0.246731 -0.191429 -0.724163\n",
       "2021-01-16  0.504597  0.728836 -0.064109  1.422097\n",
       "2021-01-17  0.637966 -1.343297 -1.054989  0.518092\n",
       "2021-01-18  0.241059  0.990760 -1.008282  1.656729\n",
       "2021-01-19  0.333633 -1.178295 -1.029100 -0.346980"
      ]
     },
     "execution_count": 26,
     "metadata": {},
     "output_type": "execute_result"
    }
   ],
   "source": [
    "df1.sort_index(axis=1,ascending=True)"
   ]
  },
  {
   "cell_type": "code",
   "execution_count": 28,
   "metadata": {},
   "outputs": [
    {
     "data": {
      "text/html": [
       "<div>\n",
       "<style scoped>\n",
       "    .dataframe tbody tr th:only-of-type {\n",
       "        vertical-align: middle;\n",
       "    }\n",
       "\n",
       "    .dataframe tbody tr th {\n",
       "        vertical-align: top;\n",
       "    }\n",
       "\n",
       "    .dataframe thead th {\n",
       "        text-align: right;\n",
       "    }\n",
       "</style>\n",
       "<table border=\"1\" class=\"dataframe\">\n",
       "  <thead>\n",
       "    <tr style=\"text-align: right;\">\n",
       "      <th></th>\n",
       "      <th>A</th>\n",
       "      <th>B</th>\n",
       "      <th>C</th>\n",
       "      <th>D</th>\n",
       "    </tr>\n",
       "  </thead>\n",
       "  <tbody>\n",
       "    <tr>\n",
       "      <td>2021-01-13</td>\n",
       "      <td>-1.581267</td>\n",
       "      <td>0.986835</td>\n",
       "      <td>-0.155522</td>\n",
       "      <td>0.102689</td>\n",
       "    </tr>\n",
       "    <tr>\n",
       "      <td>2021-01-11</td>\n",
       "      <td>-0.829321</td>\n",
       "      <td>0.035848</td>\n",
       "      <td>-0.588739</td>\n",
       "      <td>-0.403698</td>\n",
       "    </tr>\n",
       "    <tr>\n",
       "      <td>2021-01-15</td>\n",
       "      <td>-0.499278</td>\n",
       "      <td>-0.246731</td>\n",
       "      <td>-0.191429</td>\n",
       "      <td>-0.724163</td>\n",
       "    </tr>\n",
       "    <tr>\n",
       "      <td>2021-01-14</td>\n",
       "      <td>0.104500</td>\n",
       "      <td>-0.187676</td>\n",
       "      <td>-1.614953</td>\n",
       "      <td>-2.021731</td>\n",
       "    </tr>\n",
       "    <tr>\n",
       "      <td>2021-01-18</td>\n",
       "      <td>0.241059</td>\n",
       "      <td>0.990760</td>\n",
       "      <td>-1.008282</td>\n",
       "      <td>1.656729</td>\n",
       "    </tr>\n",
       "    <tr>\n",
       "      <td>2021-01-19</td>\n",
       "      <td>0.333633</td>\n",
       "      <td>-1.178295</td>\n",
       "      <td>-1.029100</td>\n",
       "      <td>-0.346980</td>\n",
       "    </tr>\n",
       "    <tr>\n",
       "      <td>2021-01-16</td>\n",
       "      <td>0.504597</td>\n",
       "      <td>0.728836</td>\n",
       "      <td>-0.064109</td>\n",
       "      <td>1.422097</td>\n",
       "    </tr>\n",
       "    <tr>\n",
       "      <td>2021-01-17</td>\n",
       "      <td>0.637966</td>\n",
       "      <td>-1.343297</td>\n",
       "      <td>-1.054989</td>\n",
       "      <td>0.518092</td>\n",
       "    </tr>\n",
       "    <tr>\n",
       "      <td>2021-01-10</td>\n",
       "      <td>0.997043</td>\n",
       "      <td>0.658202</td>\n",
       "      <td>0.239007</td>\n",
       "      <td>0.228081</td>\n",
       "    </tr>\n",
       "    <tr>\n",
       "      <td>2021-01-12</td>\n",
       "      <td>1.705185</td>\n",
       "      <td>0.437801</td>\n",
       "      <td>-0.475632</td>\n",
       "      <td>-0.931822</td>\n",
       "    </tr>\n",
       "  </tbody>\n",
       "</table>\n",
       "</div>"
      ],
      "text/plain": [
       "                   A         B         C         D\n",
       "2021-01-13 -1.581267  0.986835 -0.155522  0.102689\n",
       "2021-01-11 -0.829321  0.035848 -0.588739 -0.403698\n",
       "2021-01-15 -0.499278 -0.246731 -0.191429 -0.724163\n",
       "2021-01-14  0.104500 -0.187676 -1.614953 -2.021731\n",
       "2021-01-18  0.241059  0.990760 -1.008282  1.656729\n",
       "2021-01-19  0.333633 -1.178295 -1.029100 -0.346980\n",
       "2021-01-16  0.504597  0.728836 -0.064109  1.422097\n",
       "2021-01-17  0.637966 -1.343297 -1.054989  0.518092\n",
       "2021-01-10  0.997043  0.658202  0.239007  0.228081\n",
       "2021-01-12  1.705185  0.437801 -0.475632 -0.931822"
      ]
     },
     "execution_count": 28,
     "metadata": {},
     "output_type": "execute_result"
    }
   ],
   "source": [
    "df1.sort_values(by='A')"
   ]
  },
  {
   "cell_type": "code",
   "execution_count": 30,
   "metadata": {},
   "outputs": [
    {
     "data": {
      "text/plain": [
       "2021-01-10    0.997043\n",
       "2021-01-11   -0.829321\n",
       "2021-01-12    1.705185\n",
       "2021-01-13   -1.581267\n",
       "2021-01-14    0.104500\n",
       "2021-01-15   -0.499278\n",
       "2021-01-16    0.504597\n",
       "2021-01-17    0.637966\n",
       "2021-01-18    0.241059\n",
       "2021-01-19    0.333633\n",
       "Freq: D, Name: A, dtype: float64"
      ]
     },
     "execution_count": 30,
     "metadata": {},
     "output_type": "execute_result"
    }
   ],
   "source": [
    "#Select a sibgle column from dataset\n",
    "df1['A']"
   ]
  },
  {
   "cell_type": "code",
   "execution_count": 31,
   "metadata": {},
   "outputs": [
    {
     "data": {
      "text/html": [
       "<div>\n",
       "<style scoped>\n",
       "    .dataframe tbody tr th:only-of-type {\n",
       "        vertical-align: middle;\n",
       "    }\n",
       "\n",
       "    .dataframe tbody tr th {\n",
       "        vertical-align: top;\n",
       "    }\n",
       "\n",
       "    .dataframe thead th {\n",
       "        text-align: right;\n",
       "    }\n",
       "</style>\n",
       "<table border=\"1\" class=\"dataframe\">\n",
       "  <thead>\n",
       "    <tr style=\"text-align: right;\">\n",
       "      <th></th>\n",
       "      <th>A</th>\n",
       "      <th>B</th>\n",
       "      <th>C</th>\n",
       "      <th>D</th>\n",
       "    </tr>\n",
       "  </thead>\n",
       "  <tbody>\n",
       "    <tr>\n",
       "      <td>2021-01-10</td>\n",
       "      <td>0.997043</td>\n",
       "      <td>0.658202</td>\n",
       "      <td>0.239007</td>\n",
       "      <td>0.228081</td>\n",
       "    </tr>\n",
       "    <tr>\n",
       "      <td>2021-01-11</td>\n",
       "      <td>-0.829321</td>\n",
       "      <td>0.035848</td>\n",
       "      <td>-0.588739</td>\n",
       "      <td>-0.403698</td>\n",
       "    </tr>\n",
       "  </tbody>\n",
       "</table>\n",
       "</div>"
      ],
      "text/plain": [
       "                   A         B         C         D\n",
       "2021-01-10  0.997043  0.658202  0.239007  0.228081\n",
       "2021-01-11 -0.829321  0.035848 -0.588739 -0.403698"
      ]
     },
     "execution_count": 31,
     "metadata": {},
     "output_type": "execute_result"
    }
   ],
   "source": [
    "df1[0:2]"
   ]
  },
  {
   "cell_type": "code",
   "execution_count": 35,
   "metadata": {},
   "outputs": [
    {
     "data": {
      "text/plain": [
       "A   -0.829321\n",
       "B    0.035848\n",
       "C   -0.588739\n",
       "D   -0.403698\n",
       "Name: 2021-01-11 00:00:00, dtype: float64"
      ]
     },
     "execution_count": 35,
     "metadata": {},
     "output_type": "execute_result"
    }
   ],
   "source": [
    "df1.loc[d[1]]"
   ]
  },
  {
   "cell_type": "code",
   "execution_count": 38,
   "metadata": {},
   "outputs": [
    {
     "data": {
      "text/html": [
       "<div>\n",
       "<style scoped>\n",
       "    .dataframe tbody tr th:only-of-type {\n",
       "        vertical-align: middle;\n",
       "    }\n",
       "\n",
       "    .dataframe tbody tr th {\n",
       "        vertical-align: top;\n",
       "    }\n",
       "\n",
       "    .dataframe thead th {\n",
       "        text-align: right;\n",
       "    }\n",
       "</style>\n",
       "<table border=\"1\" class=\"dataframe\">\n",
       "  <thead>\n",
       "    <tr style=\"text-align: right;\">\n",
       "      <th></th>\n",
       "      <th>A</th>\n",
       "      <th>C</th>\n",
       "    </tr>\n",
       "  </thead>\n",
       "  <tbody>\n",
       "    <tr>\n",
       "      <td>2021-01-10</td>\n",
       "      <td>0.997043</td>\n",
       "      <td>0.239007</td>\n",
       "    </tr>\n",
       "    <tr>\n",
       "      <td>2021-01-11</td>\n",
       "      <td>-0.829321</td>\n",
       "      <td>-0.588739</td>\n",
       "    </tr>\n",
       "    <tr>\n",
       "      <td>2021-01-12</td>\n",
       "      <td>1.705185</td>\n",
       "      <td>-0.475632</td>\n",
       "    </tr>\n",
       "    <tr>\n",
       "      <td>2021-01-13</td>\n",
       "      <td>-1.581267</td>\n",
       "      <td>-0.155522</td>\n",
       "    </tr>\n",
       "    <tr>\n",
       "      <td>2021-01-14</td>\n",
       "      <td>0.104500</td>\n",
       "      <td>-1.614953</td>\n",
       "    </tr>\n",
       "    <tr>\n",
       "      <td>2021-01-15</td>\n",
       "      <td>-0.499278</td>\n",
       "      <td>-0.191429</td>\n",
       "    </tr>\n",
       "    <tr>\n",
       "      <td>2021-01-16</td>\n",
       "      <td>0.504597</td>\n",
       "      <td>-0.064109</td>\n",
       "    </tr>\n",
       "    <tr>\n",
       "      <td>2021-01-17</td>\n",
       "      <td>0.637966</td>\n",
       "      <td>-1.054989</td>\n",
       "    </tr>\n",
       "    <tr>\n",
       "      <td>2021-01-18</td>\n",
       "      <td>0.241059</td>\n",
       "      <td>-1.008282</td>\n",
       "    </tr>\n",
       "    <tr>\n",
       "      <td>2021-01-19</td>\n",
       "      <td>0.333633</td>\n",
       "      <td>-1.029100</td>\n",
       "    </tr>\n",
       "  </tbody>\n",
       "</table>\n",
       "</div>"
      ],
      "text/plain": [
       "                   A         C\n",
       "2021-01-10  0.997043  0.239007\n",
       "2021-01-11 -0.829321 -0.588739\n",
       "2021-01-12  1.705185 -0.475632\n",
       "2021-01-13 -1.581267 -0.155522\n",
       "2021-01-14  0.104500 -1.614953\n",
       "2021-01-15 -0.499278 -0.191429\n",
       "2021-01-16  0.504597 -0.064109\n",
       "2021-01-17  0.637966 -1.054989\n",
       "2021-01-18  0.241059 -1.008282\n",
       "2021-01-19  0.333633 -1.029100"
      ]
     },
     "execution_count": 38,
     "metadata": {},
     "output_type": "execute_result"
    }
   ],
   "source": [
    "#selecting data o multiple accesss by label\n",
    "df1.loc[:,['A','C']]"
   ]
  },
  {
   "cell_type": "code",
   "execution_count": 40,
   "metadata": {},
   "outputs": [
    {
     "data": {
      "text/plain": [
       "A    0.997043\n",
       "C    0.239007\n",
       "Name: 2021-01-10 00:00:00, dtype: float64"
      ]
     },
     "execution_count": 40,
     "metadata": {},
     "output_type": "execute_result"
    }
   ],
   "source": [
    " df1.loc[d[0],['A','C']]"
   ]
  },
  {
   "cell_type": "code",
   "execution_count": 43,
   "metadata": {},
   "outputs": [
    {
     "data": {
      "text/html": [
       "<div>\n",
       "<style scoped>\n",
       "    .dataframe tbody tr th:only-of-type {\n",
       "        vertical-align: middle;\n",
       "    }\n",
       "\n",
       "    .dataframe tbody tr th {\n",
       "        vertical-align: top;\n",
       "    }\n",
       "\n",
       "    .dataframe thead th {\n",
       "        text-align: right;\n",
       "    }\n",
       "</style>\n",
       "<table border=\"1\" class=\"dataframe\">\n",
       "  <thead>\n",
       "    <tr style=\"text-align: right;\">\n",
       "      <th></th>\n",
       "      <th>A</th>\n",
       "      <th>B</th>\n",
       "    </tr>\n",
       "  </thead>\n",
       "  <tbody>\n",
       "    <tr>\n",
       "      <td>2021-01-12</td>\n",
       "      <td>1.705185</td>\n",
       "      <td>0.437801</td>\n",
       "    </tr>\n",
       "    <tr>\n",
       "      <td>2021-01-13</td>\n",
       "      <td>-1.581267</td>\n",
       "      <td>0.986835</td>\n",
       "    </tr>\n",
       "  </tbody>\n",
       "</table>\n",
       "</div>"
      ],
      "text/plain": [
       "                   A         B\n",
       "2021-01-12  1.705185  0.437801\n",
       "2021-01-13 -1.581267  0.986835"
      ]
     },
     "execution_count": 43,
     "metadata": {},
     "output_type": "execute_result"
    }
   ],
   "source": [
    "#values from a position inside a dataframe\n",
    "df1.iloc[2:4,0:2]"
   ]
  },
  {
   "cell_type": "code",
   "execution_count": 44,
   "metadata": {},
   "outputs": [
    {
     "data": {
      "text/html": [
       "<div>\n",
       "<style scoped>\n",
       "    .dataframe tbody tr th:only-of-type {\n",
       "        vertical-align: middle;\n",
       "    }\n",
       "\n",
       "    .dataframe tbody tr th {\n",
       "        vertical-align: top;\n",
       "    }\n",
       "\n",
       "    .dataframe thead th {\n",
       "        text-align: right;\n",
       "    }\n",
       "</style>\n",
       "<table border=\"1\" class=\"dataframe\">\n",
       "  <thead>\n",
       "    <tr style=\"text-align: right;\">\n",
       "      <th></th>\n",
       "      <th>A</th>\n",
       "      <th>B</th>\n",
       "      <th>C</th>\n",
       "      <th>D</th>\n",
       "    </tr>\n",
       "  </thead>\n",
       "  <tbody>\n",
       "    <tr>\n",
       "      <td>2021-01-12</td>\n",
       "      <td>1.705185</td>\n",
       "      <td>0.437801</td>\n",
       "      <td>-0.475632</td>\n",
       "      <td>-0.931822</td>\n",
       "    </tr>\n",
       "  </tbody>\n",
       "</table>\n",
       "</div>"
      ],
      "text/plain": [
       "                   A         B         C         D\n",
       "2021-01-12  1.705185  0.437801 -0.475632 -0.931822"
      ]
     },
     "execution_count": 44,
     "metadata": {},
     "output_type": "execute_result"
    }
   ],
   "source": [
    "#boolean indexing\n",
    "df1[df1['A']>1]"
   ]
  },
  {
   "cell_type": "markdown",
   "metadata": {},
   "source": [
    "##### Handle Missing data"
   ]
  },
  {
   "cell_type": "code",
   "execution_count": 45,
   "metadata": {},
   "outputs": [],
   "source": [
    "#adding new indexes\n",
    "df2=df1.reindex(index=d[0:4],columns=list(df1.columns)+['E'])"
   ]
  },
  {
   "cell_type": "code",
   "execution_count": 46,
   "metadata": {},
   "outputs": [],
   "source": [
    "df2.loc[d[0]:d[1],'E']=1"
   ]
  },
  {
   "cell_type": "code",
   "execution_count": 47,
   "metadata": {},
   "outputs": [
    {
     "data": {
      "text/html": [
       "<div>\n",
       "<style scoped>\n",
       "    .dataframe tbody tr th:only-of-type {\n",
       "        vertical-align: middle;\n",
       "    }\n",
       "\n",
       "    .dataframe tbody tr th {\n",
       "        vertical-align: top;\n",
       "    }\n",
       "\n",
       "    .dataframe thead th {\n",
       "        text-align: right;\n",
       "    }\n",
       "</style>\n",
       "<table border=\"1\" class=\"dataframe\">\n",
       "  <thead>\n",
       "    <tr style=\"text-align: right;\">\n",
       "      <th></th>\n",
       "      <th>A</th>\n",
       "      <th>B</th>\n",
       "      <th>C</th>\n",
       "      <th>D</th>\n",
       "      <th>E</th>\n",
       "    </tr>\n",
       "  </thead>\n",
       "  <tbody>\n",
       "    <tr>\n",
       "      <td>2021-01-10</td>\n",
       "      <td>0.997043</td>\n",
       "      <td>0.658202</td>\n",
       "      <td>0.239007</td>\n",
       "      <td>0.228081</td>\n",
       "      <td>1.0</td>\n",
       "    </tr>\n",
       "    <tr>\n",
       "      <td>2021-01-11</td>\n",
       "      <td>-0.829321</td>\n",
       "      <td>0.035848</td>\n",
       "      <td>-0.588739</td>\n",
       "      <td>-0.403698</td>\n",
       "      <td>1.0</td>\n",
       "    </tr>\n",
       "    <tr>\n",
       "      <td>2021-01-12</td>\n",
       "      <td>1.705185</td>\n",
       "      <td>0.437801</td>\n",
       "      <td>-0.475632</td>\n",
       "      <td>-0.931822</td>\n",
       "      <td>NaN</td>\n",
       "    </tr>\n",
       "    <tr>\n",
       "      <td>2021-01-13</td>\n",
       "      <td>-1.581267</td>\n",
       "      <td>0.986835</td>\n",
       "      <td>-0.155522</td>\n",
       "      <td>0.102689</td>\n",
       "      <td>NaN</td>\n",
       "    </tr>\n",
       "  </tbody>\n",
       "</table>\n",
       "</div>"
      ],
      "text/plain": [
       "                   A         B         C         D    E\n",
       "2021-01-10  0.997043  0.658202  0.239007  0.228081  1.0\n",
       "2021-01-11 -0.829321  0.035848 -0.588739 -0.403698  1.0\n",
       "2021-01-12  1.705185  0.437801 -0.475632 -0.931822  NaN\n",
       "2021-01-13 -1.581267  0.986835 -0.155522  0.102689  NaN"
      ]
     },
     "execution_count": 47,
     "metadata": {},
     "output_type": "execute_result"
    }
   ],
   "source": [
    "df2"
   ]
  },
  {
   "cell_type": "code",
   "execution_count": 49,
   "metadata": {},
   "outputs": [
    {
     "data": {
      "text/html": [
       "<div>\n",
       "<style scoped>\n",
       "    .dataframe tbody tr th:only-of-type {\n",
       "        vertical-align: middle;\n",
       "    }\n",
       "\n",
       "    .dataframe tbody tr th {\n",
       "        vertical-align: top;\n",
       "    }\n",
       "\n",
       "    .dataframe thead th {\n",
       "        text-align: right;\n",
       "    }\n",
       "</style>\n",
       "<table border=\"1\" class=\"dataframe\">\n",
       "  <thead>\n",
       "    <tr style=\"text-align: right;\">\n",
       "      <th></th>\n",
       "      <th>A</th>\n",
       "      <th>B</th>\n",
       "      <th>C</th>\n",
       "      <th>D</th>\n",
       "      <th>E</th>\n",
       "    </tr>\n",
       "  </thead>\n",
       "  <tbody>\n",
       "    <tr>\n",
       "      <td>2021-01-10</td>\n",
       "      <td>False</td>\n",
       "      <td>False</td>\n",
       "      <td>False</td>\n",
       "      <td>False</td>\n",
       "      <td>False</td>\n",
       "    </tr>\n",
       "    <tr>\n",
       "      <td>2021-01-11</td>\n",
       "      <td>False</td>\n",
       "      <td>False</td>\n",
       "      <td>False</td>\n",
       "      <td>False</td>\n",
       "      <td>False</td>\n",
       "    </tr>\n",
       "    <tr>\n",
       "      <td>2021-01-12</td>\n",
       "      <td>False</td>\n",
       "      <td>False</td>\n",
       "      <td>False</td>\n",
       "      <td>False</td>\n",
       "      <td>True</td>\n",
       "    </tr>\n",
       "    <tr>\n",
       "      <td>2021-01-13</td>\n",
       "      <td>False</td>\n",
       "      <td>False</td>\n",
       "      <td>False</td>\n",
       "      <td>False</td>\n",
       "      <td>True</td>\n",
       "    </tr>\n",
       "  </tbody>\n",
       "</table>\n",
       "</div>"
      ],
      "text/plain": [
       "                A      B      C      D      E\n",
       "2021-01-10  False  False  False  False  False\n",
       "2021-01-11  False  False  False  False  False\n",
       "2021-01-12  False  False  False  False   True\n",
       "2021-01-13  False  False  False  False   True"
      ]
     },
     "execution_count": 49,
     "metadata": {},
     "output_type": "execute_result"
    }
   ],
   "source": [
    "df2.isnull()"
   ]
  },
  {
   "cell_type": "code",
   "execution_count": 50,
   "metadata": {},
   "outputs": [
    {
     "data": {
      "text/html": [
       "<div>\n",
       "<style scoped>\n",
       "    .dataframe tbody tr th:only-of-type {\n",
       "        vertical-align: middle;\n",
       "    }\n",
       "\n",
       "    .dataframe tbody tr th {\n",
       "        vertical-align: top;\n",
       "    }\n",
       "\n",
       "    .dataframe thead th {\n",
       "        text-align: right;\n",
       "    }\n",
       "</style>\n",
       "<table border=\"1\" class=\"dataframe\">\n",
       "  <thead>\n",
       "    <tr style=\"text-align: right;\">\n",
       "      <th></th>\n",
       "      <th>A</th>\n",
       "      <th>B</th>\n",
       "      <th>C</th>\n",
       "      <th>D</th>\n",
       "      <th>E</th>\n",
       "    </tr>\n",
       "  </thead>\n",
       "  <tbody>\n",
       "    <tr>\n",
       "      <td>2021-01-10</td>\n",
       "      <td>0.997043</td>\n",
       "      <td>0.658202</td>\n",
       "      <td>0.239007</td>\n",
       "      <td>0.228081</td>\n",
       "      <td>1.0</td>\n",
       "    </tr>\n",
       "    <tr>\n",
       "      <td>2021-01-11</td>\n",
       "      <td>-0.829321</td>\n",
       "      <td>0.035848</td>\n",
       "      <td>-0.588739</td>\n",
       "      <td>-0.403698</td>\n",
       "      <td>1.0</td>\n",
       "    </tr>\n",
       "  </tbody>\n",
       "</table>\n",
       "</div>"
      ],
      "text/plain": [
       "                   A         B         C         D    E\n",
       "2021-01-10  0.997043  0.658202  0.239007  0.228081  1.0\n",
       "2021-01-11 -0.829321  0.035848 -0.588739 -0.403698  1.0"
      ]
     },
     "execution_count": 50,
     "metadata": {},
     "output_type": "execute_result"
    }
   ],
   "source": [
    "df2.dropna()"
   ]
  },
  {
   "cell_type": "code",
   "execution_count": 51,
   "metadata": {},
   "outputs": [
    {
     "data": {
      "text/html": [
       "<div>\n",
       "<style scoped>\n",
       "    .dataframe tbody tr th:only-of-type {\n",
       "        vertical-align: middle;\n",
       "    }\n",
       "\n",
       "    .dataframe tbody tr th {\n",
       "        vertical-align: top;\n",
       "    }\n",
       "\n",
       "    .dataframe thead th {\n",
       "        text-align: right;\n",
       "    }\n",
       "</style>\n",
       "<table border=\"1\" class=\"dataframe\">\n",
       "  <thead>\n",
       "    <tr style=\"text-align: right;\">\n",
       "      <th></th>\n",
       "      <th>A</th>\n",
       "      <th>B</th>\n",
       "      <th>C</th>\n",
       "      <th>D</th>\n",
       "      <th>E</th>\n",
       "    </tr>\n",
       "  </thead>\n",
       "  <tbody>\n",
       "    <tr>\n",
       "      <td>2021-01-10</td>\n",
       "      <td>0.997043</td>\n",
       "      <td>0.658202</td>\n",
       "      <td>0.239007</td>\n",
       "      <td>0.228081</td>\n",
       "      <td>1.0</td>\n",
       "    </tr>\n",
       "    <tr>\n",
       "      <td>2021-01-11</td>\n",
       "      <td>-0.829321</td>\n",
       "      <td>0.035848</td>\n",
       "      <td>-0.588739</td>\n",
       "      <td>-0.403698</td>\n",
       "      <td>1.0</td>\n",
       "    </tr>\n",
       "    <tr>\n",
       "      <td>2021-01-12</td>\n",
       "      <td>1.705185</td>\n",
       "      <td>0.437801</td>\n",
       "      <td>-0.475632</td>\n",
       "      <td>-0.931822</td>\n",
       "      <td>2.0</td>\n",
       "    </tr>\n",
       "    <tr>\n",
       "      <td>2021-01-13</td>\n",
       "      <td>-1.581267</td>\n",
       "      <td>0.986835</td>\n",
       "      <td>-0.155522</td>\n",
       "      <td>0.102689</td>\n",
       "      <td>2.0</td>\n",
       "    </tr>\n",
       "  </tbody>\n",
       "</table>\n",
       "</div>"
      ],
      "text/plain": [
       "                   A         B         C         D    E\n",
       "2021-01-10  0.997043  0.658202  0.239007  0.228081  1.0\n",
       "2021-01-11 -0.829321  0.035848 -0.588739 -0.403698  1.0\n",
       "2021-01-12  1.705185  0.437801 -0.475632 -0.931822  2.0\n",
       "2021-01-13 -1.581267  0.986835 -0.155522  0.102689  2.0"
      ]
     },
     "execution_count": 51,
     "metadata": {},
     "output_type": "execute_result"
    }
   ],
   "source": [
    "df2.fillna(value=2)"
   ]
  },
  {
   "cell_type": "code",
   "execution_count": 52,
   "metadata": {},
   "outputs": [
    {
     "data": {
      "text/html": [
       "<div>\n",
       "<style scoped>\n",
       "    .dataframe tbody tr th:only-of-type {\n",
       "        vertical-align: middle;\n",
       "    }\n",
       "\n",
       "    .dataframe tbody tr th {\n",
       "        vertical-align: top;\n",
       "    }\n",
       "\n",
       "    .dataframe thead th {\n",
       "        text-align: right;\n",
       "    }\n",
       "</style>\n",
       "<table border=\"1\" class=\"dataframe\">\n",
       "  <thead>\n",
       "    <tr style=\"text-align: right;\">\n",
       "      <th></th>\n",
       "      <th>A</th>\n",
       "      <th>B</th>\n",
       "      <th>C</th>\n",
       "      <th>D</th>\n",
       "      <th>E</th>\n",
       "    </tr>\n",
       "  </thead>\n",
       "  <tbody>\n",
       "    <tr>\n",
       "      <td>2021-01-10</td>\n",
       "      <td>False</td>\n",
       "      <td>False</td>\n",
       "      <td>False</td>\n",
       "      <td>False</td>\n",
       "      <td>False</td>\n",
       "    </tr>\n",
       "    <tr>\n",
       "      <td>2021-01-11</td>\n",
       "      <td>False</td>\n",
       "      <td>False</td>\n",
       "      <td>False</td>\n",
       "      <td>False</td>\n",
       "      <td>False</td>\n",
       "    </tr>\n",
       "    <tr>\n",
       "      <td>2021-01-12</td>\n",
       "      <td>False</td>\n",
       "      <td>False</td>\n",
       "      <td>False</td>\n",
       "      <td>False</td>\n",
       "      <td>True</td>\n",
       "    </tr>\n",
       "    <tr>\n",
       "      <td>2021-01-13</td>\n",
       "      <td>False</td>\n",
       "      <td>False</td>\n",
       "      <td>False</td>\n",
       "      <td>False</td>\n",
       "      <td>True</td>\n",
       "    </tr>\n",
       "  </tbody>\n",
       "</table>\n",
       "</div>"
      ],
      "text/plain": [
       "                A      B      C      D      E\n",
       "2021-01-10  False  False  False  False  False\n",
       "2021-01-11  False  False  False  False  False\n",
       "2021-01-12  False  False  False  False   True\n",
       "2021-01-13  False  False  False  False   True"
      ]
     },
     "execution_count": 52,
     "metadata": {},
     "output_type": "execute_result"
    }
   ],
   "source": [
    "pa.isna(df2)"
   ]
  },
  {
   "cell_type": "markdown",
   "metadata": {},
   "source": [
    "##### Pandas operations"
   ]
  },
  {
   "cell_type": "code",
   "execution_count": 54,
   "metadata": {},
   "outputs": [
    {
     "data": {
      "text/plain": [
       "A    0.161412\n",
       "B    0.088228\n",
       "C   -0.594375\n",
       "D   -0.050071\n",
       "dtype: float64"
      ]
     },
     "execution_count": 54,
     "metadata": {},
     "output_type": "execute_result"
    }
   ],
   "source": [
    " df1.mean()"
   ]
  },
  {
   "cell_type": "code",
   "execution_count": 55,
   "metadata": {},
   "outputs": [],
   "source": [
    "s=pa.Series([1,2,3,np.nan,4,5,6,7,8,9],index=d).shift(2)"
   ]
  },
  {
   "cell_type": "code",
   "execution_count": 56,
   "metadata": {},
   "outputs": [
    {
     "data": {
      "text/plain": [
       "2021-01-10    NaN\n",
       "2021-01-11    NaN\n",
       "2021-01-12    1.0\n",
       "2021-01-13    2.0\n",
       "2021-01-14    3.0\n",
       "2021-01-15    NaN\n",
       "2021-01-16    4.0\n",
       "2021-01-17    5.0\n",
       "2021-01-18    6.0\n",
       "2021-01-19    7.0\n",
       "Freq: D, dtype: float64"
      ]
     },
     "execution_count": 56,
     "metadata": {},
     "output_type": "execute_result"
    }
   ],
   "source": [
    "s"
   ]
  },
  {
   "cell_type": "code",
   "execution_count": 57,
   "metadata": {},
   "outputs": [
    {
     "data": {
      "text/html": [
       "<div>\n",
       "<style scoped>\n",
       "    .dataframe tbody tr th:only-of-type {\n",
       "        vertical-align: middle;\n",
       "    }\n",
       "\n",
       "    .dataframe tbody tr th {\n",
       "        vertical-align: top;\n",
       "    }\n",
       "\n",
       "    .dataframe thead th {\n",
       "        text-align: right;\n",
       "    }\n",
       "</style>\n",
       "<table border=\"1\" class=\"dataframe\">\n",
       "  <thead>\n",
       "    <tr style=\"text-align: right;\">\n",
       "      <th></th>\n",
       "      <th>A</th>\n",
       "      <th>B</th>\n",
       "      <th>C</th>\n",
       "      <th>D</th>\n",
       "    </tr>\n",
       "  </thead>\n",
       "  <tbody>\n",
       "    <tr>\n",
       "      <td>2021-01-10</td>\n",
       "      <td>NaN</td>\n",
       "      <td>NaN</td>\n",
       "      <td>NaN</td>\n",
       "      <td>NaN</td>\n",
       "    </tr>\n",
       "    <tr>\n",
       "      <td>2021-01-11</td>\n",
       "      <td>NaN</td>\n",
       "      <td>NaN</td>\n",
       "      <td>NaN</td>\n",
       "      <td>NaN</td>\n",
       "    </tr>\n",
       "    <tr>\n",
       "      <td>2021-01-12</td>\n",
       "      <td>0.705185</td>\n",
       "      <td>-0.562199</td>\n",
       "      <td>-1.475632</td>\n",
       "      <td>-1.931822</td>\n",
       "    </tr>\n",
       "    <tr>\n",
       "      <td>2021-01-13</td>\n",
       "      <td>-3.581267</td>\n",
       "      <td>-1.013165</td>\n",
       "      <td>-2.155522</td>\n",
       "      <td>-1.897311</td>\n",
       "    </tr>\n",
       "    <tr>\n",
       "      <td>2021-01-14</td>\n",
       "      <td>-2.895500</td>\n",
       "      <td>-3.187676</td>\n",
       "      <td>-4.614953</td>\n",
       "      <td>-5.021731</td>\n",
       "    </tr>\n",
       "    <tr>\n",
       "      <td>2021-01-15</td>\n",
       "      <td>NaN</td>\n",
       "      <td>NaN</td>\n",
       "      <td>NaN</td>\n",
       "      <td>NaN</td>\n",
       "    </tr>\n",
       "    <tr>\n",
       "      <td>2021-01-16</td>\n",
       "      <td>-3.495403</td>\n",
       "      <td>-3.271164</td>\n",
       "      <td>-4.064109</td>\n",
       "      <td>-2.577903</td>\n",
       "    </tr>\n",
       "    <tr>\n",
       "      <td>2021-01-17</td>\n",
       "      <td>-4.362034</td>\n",
       "      <td>-6.343297</td>\n",
       "      <td>-6.054989</td>\n",
       "      <td>-4.481908</td>\n",
       "    </tr>\n",
       "    <tr>\n",
       "      <td>2021-01-18</td>\n",
       "      <td>-5.758941</td>\n",
       "      <td>-5.009240</td>\n",
       "      <td>-7.008282</td>\n",
       "      <td>-4.343271</td>\n",
       "    </tr>\n",
       "    <tr>\n",
       "      <td>2021-01-19</td>\n",
       "      <td>-6.666367</td>\n",
       "      <td>-8.178295</td>\n",
       "      <td>-8.029100</td>\n",
       "      <td>-7.346980</td>\n",
       "    </tr>\n",
       "  </tbody>\n",
       "</table>\n",
       "</div>"
      ],
      "text/plain": [
       "                   A         B         C         D\n",
       "2021-01-10       NaN       NaN       NaN       NaN\n",
       "2021-01-11       NaN       NaN       NaN       NaN\n",
       "2021-01-12  0.705185 -0.562199 -1.475632 -1.931822\n",
       "2021-01-13 -3.581267 -1.013165 -2.155522 -1.897311\n",
       "2021-01-14 -2.895500 -3.187676 -4.614953 -5.021731\n",
       "2021-01-15       NaN       NaN       NaN       NaN\n",
       "2021-01-16 -3.495403 -3.271164 -4.064109 -2.577903\n",
       "2021-01-17 -4.362034 -6.343297 -6.054989 -4.481908\n",
       "2021-01-18 -5.758941 -5.009240 -7.008282 -4.343271\n",
       "2021-01-19 -6.666367 -8.178295 -8.029100 -7.346980"
      ]
     },
     "execution_count": 57,
     "metadata": {},
     "output_type": "execute_result"
    }
   ],
   "source": [
    "df1.sub(s,axis='index')"
   ]
  },
  {
   "cell_type": "code",
   "execution_count": 60,
   "metadata": {},
   "outputs": [
    {
     "data": {
      "text/html": [
       "<div>\n",
       "<style scoped>\n",
       "    .dataframe tbody tr th:only-of-type {\n",
       "        vertical-align: middle;\n",
       "    }\n",
       "\n",
       "    .dataframe tbody tr th {\n",
       "        vertical-align: top;\n",
       "    }\n",
       "\n",
       "    .dataframe thead th {\n",
       "        text-align: right;\n",
       "    }\n",
       "</style>\n",
       "<table border=\"1\" class=\"dataframe\">\n",
       "  <thead>\n",
       "    <tr style=\"text-align: right;\">\n",
       "      <th></th>\n",
       "      <th>A</th>\n",
       "      <th>B</th>\n",
       "      <th>C</th>\n",
       "      <th>D</th>\n",
       "    </tr>\n",
       "  </thead>\n",
       "  <tbody>\n",
       "    <tr>\n",
       "      <td>2021-01-10</td>\n",
       "      <td>0.997043</td>\n",
       "      <td>0.658202</td>\n",
       "      <td>0.239007</td>\n",
       "      <td>0.228081</td>\n",
       "    </tr>\n",
       "    <tr>\n",
       "      <td>2021-01-11</td>\n",
       "      <td>0.167721</td>\n",
       "      <td>0.694050</td>\n",
       "      <td>-0.349732</td>\n",
       "      <td>-0.175617</td>\n",
       "    </tr>\n",
       "    <tr>\n",
       "      <td>2021-01-12</td>\n",
       "      <td>1.872906</td>\n",
       "      <td>1.131851</td>\n",
       "      <td>-0.825363</td>\n",
       "      <td>-1.107438</td>\n",
       "    </tr>\n",
       "    <tr>\n",
       "      <td>2021-01-13</td>\n",
       "      <td>0.291639</td>\n",
       "      <td>2.118686</td>\n",
       "      <td>-0.980885</td>\n",
       "      <td>-1.004750</td>\n",
       "    </tr>\n",
       "    <tr>\n",
       "      <td>2021-01-14</td>\n",
       "      <td>0.396139</td>\n",
       "      <td>1.931011</td>\n",
       "      <td>-2.595838</td>\n",
       "      <td>-3.026481</td>\n",
       "    </tr>\n",
       "    <tr>\n",
       "      <td>2021-01-15</td>\n",
       "      <td>-0.103139</td>\n",
       "      <td>1.684280</td>\n",
       "      <td>-2.787267</td>\n",
       "      <td>-3.750644</td>\n",
       "    </tr>\n",
       "    <tr>\n",
       "      <td>2021-01-16</td>\n",
       "      <td>0.401458</td>\n",
       "      <td>2.413116</td>\n",
       "      <td>-2.851377</td>\n",
       "      <td>-2.328547</td>\n",
       "    </tr>\n",
       "    <tr>\n",
       "      <td>2021-01-17</td>\n",
       "      <td>1.039424</td>\n",
       "      <td>1.069819</td>\n",
       "      <td>-3.906366</td>\n",
       "      <td>-1.810455</td>\n",
       "    </tr>\n",
       "    <tr>\n",
       "      <td>2021-01-18</td>\n",
       "      <td>1.280483</td>\n",
       "      <td>2.060580</td>\n",
       "      <td>-4.914648</td>\n",
       "      <td>-0.153726</td>\n",
       "    </tr>\n",
       "    <tr>\n",
       "      <td>2021-01-19</td>\n",
       "      <td>1.614116</td>\n",
       "      <td>0.882284</td>\n",
       "      <td>-5.943748</td>\n",
       "      <td>-0.500706</td>\n",
       "    </tr>\n",
       "  </tbody>\n",
       "</table>\n",
       "</div>"
      ],
      "text/plain": [
       "                   A         B         C         D\n",
       "2021-01-10  0.997043  0.658202  0.239007  0.228081\n",
       "2021-01-11  0.167721  0.694050 -0.349732 -0.175617\n",
       "2021-01-12  1.872906  1.131851 -0.825363 -1.107438\n",
       "2021-01-13  0.291639  2.118686 -0.980885 -1.004750\n",
       "2021-01-14  0.396139  1.931011 -2.595838 -3.026481\n",
       "2021-01-15 -0.103139  1.684280 -2.787267 -3.750644\n",
       "2021-01-16  0.401458  2.413116 -2.851377 -2.328547\n",
       "2021-01-17  1.039424  1.069819 -3.906366 -1.810455\n",
       "2021-01-18  1.280483  2.060580 -4.914648 -0.153726\n",
       "2021-01-19  1.614116  0.882284 -5.943748 -0.500706"
      ]
     },
     "execution_count": 60,
     "metadata": {},
     "output_type": "execute_result"
    }
   ],
   "source": [
    "#apply has much functions\n",
    "df1.apply(np.cumsum)"
   ]
  },
  {
   "cell_type": "code",
   "execution_count": 61,
   "metadata": {},
   "outputs": [
    {
     "data": {
      "text/plain": [
       "A    3.286452\n",
       "B    2.334057\n",
       "C    1.853960\n",
       "D    3.678460\n",
       "dtype: float64"
      ]
     },
     "execution_count": 61,
     "metadata": {},
     "output_type": "execute_result"
    }
   ],
   "source": [
    "df1.apply(lambda x:x.max()-x.min())"
   ]
  },
  {
   "cell_type": "code",
   "execution_count": 62,
   "metadata": {},
   "outputs": [
    {
     "data": {
      "text/plain": [
       "7.0    1\n",
       "6.0    1\n",
       "5.0    1\n",
       "4.0    1\n",
       "3.0    1\n",
       "2.0    1\n",
       "1.0    1\n",
       "dtype: int64"
      ]
     },
     "execution_count": 62,
     "metadata": {},
     "output_type": "execute_result"
    }
   ],
   "source": [
    "s.value_counts()"
   ]
  },
  {
   "cell_type": "code",
   "execution_count": 63,
   "metadata": {},
   "outputs": [],
   "source": [
    "s=pa.Series(['Python','jupyter','pandas',np.nan,'matlab'])"
   ]
  },
  {
   "cell_type": "code",
   "execution_count": 64,
   "metadata": {},
   "outputs": [
    {
     "data": {
      "text/plain": [
       "0     PYTHON\n",
       "1    JUPYTER\n",
       "2     PANDAS\n",
       "3        NaN\n",
       "4     MATLAB\n",
       "dtype: object"
      ]
     },
     "execution_count": 64,
     "metadata": {},
     "output_type": "execute_result"
    }
   ],
   "source": [
    "s.str.upper()"
   ]
  },
  {
   "cell_type": "code",
   "execution_count": 67,
   "metadata": {},
   "outputs": [],
   "source": [
    "#Merging\n",
    "df3=pa.DataFrame(np.random.randn(10,4))"
   ]
  },
  {
   "cell_type": "code",
   "execution_count": 68,
   "metadata": {},
   "outputs": [
    {
     "data": {
      "text/html": [
       "<div>\n",
       "<style scoped>\n",
       "    .dataframe tbody tr th:only-of-type {\n",
       "        vertical-align: middle;\n",
       "    }\n",
       "\n",
       "    .dataframe tbody tr th {\n",
       "        vertical-align: top;\n",
       "    }\n",
       "\n",
       "    .dataframe thead th {\n",
       "        text-align: right;\n",
       "    }\n",
       "</style>\n",
       "<table border=\"1\" class=\"dataframe\">\n",
       "  <thead>\n",
       "    <tr style=\"text-align: right;\">\n",
       "      <th></th>\n",
       "      <th>0</th>\n",
       "      <th>1</th>\n",
       "      <th>2</th>\n",
       "      <th>3</th>\n",
       "    </tr>\n",
       "  </thead>\n",
       "  <tbody>\n",
       "    <tr>\n",
       "      <td>0</td>\n",
       "      <td>1.104580</td>\n",
       "      <td>0.801593</td>\n",
       "      <td>-0.296059</td>\n",
       "      <td>0.677746</td>\n",
       "    </tr>\n",
       "    <tr>\n",
       "      <td>1</td>\n",
       "      <td>0.276906</td>\n",
       "      <td>0.627601</td>\n",
       "      <td>0.254044</td>\n",
       "      <td>-1.858758</td>\n",
       "    </tr>\n",
       "    <tr>\n",
       "      <td>2</td>\n",
       "      <td>1.467359</td>\n",
       "      <td>1.960433</td>\n",
       "      <td>1.646636</td>\n",
       "      <td>2.324015</td>\n",
       "    </tr>\n",
       "    <tr>\n",
       "      <td>3</td>\n",
       "      <td>0.272111</td>\n",
       "      <td>-3.092182</td>\n",
       "      <td>-0.269175</td>\n",
       "      <td>-0.110301</td>\n",
       "    </tr>\n",
       "    <tr>\n",
       "      <td>4</td>\n",
       "      <td>-0.930315</td>\n",
       "      <td>0.143623</td>\n",
       "      <td>-1.993266</td>\n",
       "      <td>1.066892</td>\n",
       "    </tr>\n",
       "    <tr>\n",
       "      <td>5</td>\n",
       "      <td>0.003930</td>\n",
       "      <td>0.987369</td>\n",
       "      <td>0.316455</td>\n",
       "      <td>-0.702495</td>\n",
       "    </tr>\n",
       "    <tr>\n",
       "      <td>6</td>\n",
       "      <td>-0.916278</td>\n",
       "      <td>0.560147</td>\n",
       "      <td>-0.150475</td>\n",
       "      <td>-1.208157</td>\n",
       "    </tr>\n",
       "    <tr>\n",
       "      <td>7</td>\n",
       "      <td>-0.153736</td>\n",
       "      <td>-1.164718</td>\n",
       "      <td>0.558353</td>\n",
       "      <td>0.126130</td>\n",
       "    </tr>\n",
       "    <tr>\n",
       "      <td>8</td>\n",
       "      <td>-0.087299</td>\n",
       "      <td>-0.179608</td>\n",
       "      <td>0.092233</td>\n",
       "      <td>-0.072767</td>\n",
       "    </tr>\n",
       "    <tr>\n",
       "      <td>9</td>\n",
       "      <td>0.209277</td>\n",
       "      <td>-0.425722</td>\n",
       "      <td>-1.842309</td>\n",
       "      <td>-1.245541</td>\n",
       "    </tr>\n",
       "  </tbody>\n",
       "</table>\n",
       "</div>"
      ],
      "text/plain": [
       "          0         1         2         3\n",
       "0  1.104580  0.801593 -0.296059  0.677746\n",
       "1  0.276906  0.627601  0.254044 -1.858758\n",
       "2  1.467359  1.960433  1.646636  2.324015\n",
       "3  0.272111 -3.092182 -0.269175 -0.110301\n",
       "4 -0.930315  0.143623 -1.993266  1.066892\n",
       "5  0.003930  0.987369  0.316455 -0.702495\n",
       "6 -0.916278  0.560147 -0.150475 -1.208157\n",
       "7 -0.153736 -1.164718  0.558353  0.126130\n",
       "8 -0.087299 -0.179608  0.092233 -0.072767\n",
       "9  0.209277 -0.425722 -1.842309 -1.245541"
      ]
     },
     "execution_count": 68,
     "metadata": {},
     "output_type": "execute_result"
    }
   ],
   "source": [
    "df3"
   ]
  },
  {
   "cell_type": "code",
   "execution_count": 69,
   "metadata": {},
   "outputs": [],
   "source": [
    "df4=[df3[:3],df3[3:7],df3[7:]]"
   ]
  },
  {
   "cell_type": "code",
   "execution_count": 70,
   "metadata": {},
   "outputs": [
    {
     "data": {
      "text/plain": [
       "[          0         1         2         3\n",
       " 0  1.104580  0.801593 -0.296059  0.677746\n",
       " 1  0.276906  0.627601  0.254044 -1.858758\n",
       " 2  1.467359  1.960433  1.646636  2.324015,\n",
       "           0         1         2         3\n",
       " 3  0.272111 -3.092182 -0.269175 -0.110301\n",
       " 4 -0.930315  0.143623 -1.993266  1.066892\n",
       " 5  0.003930  0.987369  0.316455 -0.702495\n",
       " 6 -0.916278  0.560147 -0.150475 -1.208157,\n",
       "           0         1         2         3\n",
       " 7 -0.153736 -1.164718  0.558353  0.126130\n",
       " 8 -0.087299 -0.179608  0.092233 -0.072767\n",
       " 9  0.209277 -0.425722 -1.842309 -1.245541]"
      ]
     },
     "execution_count": 70,
     "metadata": {},
     "output_type": "execute_result"
    }
   ],
   "source": [
    "df4"
   ]
  },
  {
   "cell_type": "code",
   "execution_count": 71,
   "metadata": {},
   "outputs": [
    {
     "data": {
      "text/html": [
       "<div>\n",
       "<style scoped>\n",
       "    .dataframe tbody tr th:only-of-type {\n",
       "        vertical-align: middle;\n",
       "    }\n",
       "\n",
       "    .dataframe tbody tr th {\n",
       "        vertical-align: top;\n",
       "    }\n",
       "\n",
       "    .dataframe thead th {\n",
       "        text-align: right;\n",
       "    }\n",
       "</style>\n",
       "<table border=\"1\" class=\"dataframe\">\n",
       "  <thead>\n",
       "    <tr style=\"text-align: right;\">\n",
       "      <th></th>\n",
       "      <th>0</th>\n",
       "      <th>1</th>\n",
       "      <th>2</th>\n",
       "      <th>3</th>\n",
       "    </tr>\n",
       "  </thead>\n",
       "  <tbody>\n",
       "    <tr>\n",
       "      <td>0</td>\n",
       "      <td>1.104580</td>\n",
       "      <td>0.801593</td>\n",
       "      <td>-0.296059</td>\n",
       "      <td>0.677746</td>\n",
       "    </tr>\n",
       "    <tr>\n",
       "      <td>1</td>\n",
       "      <td>0.276906</td>\n",
       "      <td>0.627601</td>\n",
       "      <td>0.254044</td>\n",
       "      <td>-1.858758</td>\n",
       "    </tr>\n",
       "    <tr>\n",
       "      <td>2</td>\n",
       "      <td>1.467359</td>\n",
       "      <td>1.960433</td>\n",
       "      <td>1.646636</td>\n",
       "      <td>2.324015</td>\n",
       "    </tr>\n",
       "    <tr>\n",
       "      <td>3</td>\n",
       "      <td>0.272111</td>\n",
       "      <td>-3.092182</td>\n",
       "      <td>-0.269175</td>\n",
       "      <td>-0.110301</td>\n",
       "    </tr>\n",
       "    <tr>\n",
       "      <td>4</td>\n",
       "      <td>-0.930315</td>\n",
       "      <td>0.143623</td>\n",
       "      <td>-1.993266</td>\n",
       "      <td>1.066892</td>\n",
       "    </tr>\n",
       "    <tr>\n",
       "      <td>5</td>\n",
       "      <td>0.003930</td>\n",
       "      <td>0.987369</td>\n",
       "      <td>0.316455</td>\n",
       "      <td>-0.702495</td>\n",
       "    </tr>\n",
       "    <tr>\n",
       "      <td>6</td>\n",
       "      <td>-0.916278</td>\n",
       "      <td>0.560147</td>\n",
       "      <td>-0.150475</td>\n",
       "      <td>-1.208157</td>\n",
       "    </tr>\n",
       "    <tr>\n",
       "      <td>7</td>\n",
       "      <td>-0.153736</td>\n",
       "      <td>-1.164718</td>\n",
       "      <td>0.558353</td>\n",
       "      <td>0.126130</td>\n",
       "    </tr>\n",
       "    <tr>\n",
       "      <td>8</td>\n",
       "      <td>-0.087299</td>\n",
       "      <td>-0.179608</td>\n",
       "      <td>0.092233</td>\n",
       "      <td>-0.072767</td>\n",
       "    </tr>\n",
       "    <tr>\n",
       "      <td>9</td>\n",
       "      <td>0.209277</td>\n",
       "      <td>-0.425722</td>\n",
       "      <td>-1.842309</td>\n",
       "      <td>-1.245541</td>\n",
       "    </tr>\n",
       "  </tbody>\n",
       "</table>\n",
       "</div>"
      ],
      "text/plain": [
       "          0         1         2         3\n",
       "0  1.104580  0.801593 -0.296059  0.677746\n",
       "1  0.276906  0.627601  0.254044 -1.858758\n",
       "2  1.467359  1.960433  1.646636  2.324015\n",
       "3  0.272111 -3.092182 -0.269175 -0.110301\n",
       "4 -0.930315  0.143623 -1.993266  1.066892\n",
       "5  0.003930  0.987369  0.316455 -0.702495\n",
       "6 -0.916278  0.560147 -0.150475 -1.208157\n",
       "7 -0.153736 -1.164718  0.558353  0.126130\n",
       "8 -0.087299 -0.179608  0.092233 -0.072767\n",
       "9  0.209277 -0.425722 -1.842309 -1.245541"
      ]
     },
     "execution_count": 71,
     "metadata": {},
     "output_type": "execute_result"
    }
   ],
   "source": [
    "pa.concat(df4)"
   ]
  },
  {
   "cell_type": "code",
   "execution_count": null,
   "metadata": {},
   "outputs": [],
   "source": []
  }
 ],
 "metadata": {
  "kernelspec": {
   "display_name": "Python 3",
   "language": "python",
   "name": "python3"
  },
  "language_info": {
   "codemirror_mode": {
    "name": "ipython",
    "version": 3
   },
   "file_extension": ".py",
   "mimetype": "text/x-python",
   "name": "python",
   "nbconvert_exporter": "python",
   "pygments_lexer": "ipython3",
   "version": "3.7.3"
  }
 },
 "nbformat": 4,
 "nbformat_minor": 2
}
